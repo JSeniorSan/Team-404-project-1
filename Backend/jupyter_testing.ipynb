{
 "cells": [
  {
   "cell_type": "code",
   "execution_count": 8,
   "metadata": {},
   "outputs": [],
   "source": [
    "from pydantic import BaseModel"
   ]
  },
  {
   "cell_type": "code",
   "execution_count": 5,
   "metadata": {},
   "outputs": [],
   "source": [
    "class TaskUpdate(BaseModel):\n",
    "    title: str | None\n",
    "    description: str | None = None"
   ]
  },
  {
   "cell_type": "code",
   "execution_count": 6,
   "metadata": {},
   "outputs": [],
   "source": [
    "task_update = TaskUpdate(title='Aboba')"
   ]
  },
  {
   "cell_type": "code",
   "execution_count": 8,
   "metadata": {},
   "outputs": [
    {
     "data": {
      "text/plain": [
       "{'title': 'Aboba'}"
      ]
     },
     "execution_count": 8,
     "metadata": {},
     "output_type": "execute_result"
    }
   ],
   "source": [
    "task_update.model_dump(exclude_unset=True)"
   ]
  },
  {
   "cell_type": "code",
   "execution_count": 27,
   "metadata": {},
   "outputs": [],
   "source": [
    "tasks = [\n",
    "        {\n",
    "          \"title\": \"Завершил\",\n",
    "          \"description\": \"string\",\n",
    "          \"id\": 200,\n",
    "          \"panel_id\": 3\n",
    "        },\n",
    "        {\n",
    "          \"title\": \"Завершил\",\n",
    "          \"description\": \"string\",\n",
    "          \"id\": 81,\n",
    "          \"panel_id\": 3\n",
    "        },\n",
    "        {\n",
    "          \"title\": \"Тоже завершил\",\n",
    "          \"description\": \"пояснение\",\n",
    "          \"id\": 82,\n",
    "          \"panel_id\": 3\n",
    "        },\n",
    "        {\n",
    "          \"title\": \"suiwqwqw\",\n",
    "          \"description\": None,\n",
    "          \"id\": 115,\n",
    "          \"panel_id\": 3\n",
    "        }\n",
    "      ]"
   ]
  },
  {
   "cell_type": "code",
   "execution_count": 28,
   "metadata": {},
   "outputs": [
    {
     "data": {
      "text/plain": [
       "[{'title': 'Завершил', 'description': 'string', 'id': 200, 'panel_id': 3},\n",
       " {'title': 'Завершил', 'description': 'string', 'id': 81, 'panel_id': 3},\n",
       " {'title': 'Тоже завершил',\n",
       "  'description': 'пояснение',\n",
       "  'id': 82,\n",
       "  'panel_id': 3},\n",
       " {'title': 'suiwqwqw', 'description': None, 'id': 115, 'panel_id': 3}]"
      ]
     },
     "execution_count": 28,
     "metadata": {},
     "output_type": "execute_result"
    }
   ],
   "source": [
    "tasks"
   ]
  },
  {
   "cell_type": "code",
   "execution_count": 29,
   "metadata": {},
   "outputs": [],
   "source": [
    "tasks.sort(key=lambda x: x[\"id\"])"
   ]
  },
  {
   "cell_type": "code",
   "execution_count": 33,
   "metadata": {},
   "outputs": [],
   "source": [
    "given_order = [81, 115, 200, 82]"
   ]
  },
  {
   "cell_type": "code",
   "execution_count": 34,
   "metadata": {},
   "outputs": [
    {
     "data": {
      "text/plain": [
       "{81: 0, 115: 1, 200: 2, 82: 3}"
      ]
     },
     "execution_count": 34,
     "metadata": {},
     "output_type": "execute_result"
    }
   ],
   "source": [
    "order = {key: i for i, key in enumerate(given_order)}\n",
    "order"
   ]
  },
  {
   "cell_type": "code",
   "execution_count": 35,
   "metadata": {},
   "outputs": [],
   "source": [
    "tasks.sort(key=lambda x: order[x['id']])"
   ]
  },
  {
   "cell_type": "code",
   "execution_count": 36,
   "metadata": {},
   "outputs": [
    {
     "data": {
      "text/plain": [
       "[{'title': 'Завершил', 'description': 'string', 'id': 81, 'panel_id': 3},\n",
       " {'title': 'suiwqwqw', 'description': None, 'id': 115, 'panel_id': 3},\n",
       " {'title': 'Завершил', 'description': 'string', 'id': 200, 'panel_id': 3},\n",
       " {'title': 'Тоже завершил',\n",
       "  'description': 'пояснение',\n",
       "  'id': 82,\n",
       "  'panel_id': 3}]"
      ]
     },
     "execution_count": 36,
     "metadata": {},
     "output_type": "execute_result"
    }
   ],
   "source": [
    "tasks"
   ]
  },
  {
   "cell_type": "code",
   "execution_count": 20,
   "metadata": {},
   "outputs": [],
   "source": [
    "a = '[1, 2, 3]'"
   ]
  },
  {
   "cell_type": "code",
   "execution_count": 21,
   "metadata": {},
   "outputs": [
    {
     "ename": "ValueError",
     "evalue": "invalid literal for int() with base 10: '[1'",
     "output_type": "error",
     "traceback": [
      "\u001b[1;31m---------------------------------------------------------------------------\u001b[0m",
      "\u001b[1;31mValueError\u001b[0m                                Traceback (most recent call last)",
      "\u001b[1;32me:\\pyth\\Team-404-project-1\\Backend\\jupyter_testing.ipynb Cell 13\u001b[0m line \u001b[0;36m1\n\u001b[1;32m----> <a href='vscode-notebook-cell:/e%3A/pyth/Team-404-project-1/Backend/jupyter_testing.ipynb#X21sZmlsZQ%3D%3D?line=0'>1</a>\u001b[0m b \u001b[39m=\u001b[39m [\u001b[39mint\u001b[39m(i) \u001b[39mfor\u001b[39;00m i \u001b[39min\u001b[39;00m a\u001b[39m.\u001b[39msplit(\u001b[39m'\u001b[39m\u001b[39m, \u001b[39m\u001b[39m'\u001b[39m)]\n",
      "\u001b[1;32me:\\pyth\\Team-404-project-1\\Backend\\jupyter_testing.ipynb Cell 13\u001b[0m line \u001b[0;36m1\n\u001b[1;32m----> <a href='vscode-notebook-cell:/e%3A/pyth/Team-404-project-1/Backend/jupyter_testing.ipynb#X21sZmlsZQ%3D%3D?line=0'>1</a>\u001b[0m b \u001b[39m=\u001b[39m [\u001b[39mint\u001b[39;49m(i) \u001b[39mfor\u001b[39;00m i \u001b[39min\u001b[39;00m a\u001b[39m.\u001b[39msplit(\u001b[39m'\u001b[39m\u001b[39m, \u001b[39m\u001b[39m'\u001b[39m)]\n",
      "\u001b[1;31mValueError\u001b[0m: invalid literal for int() with base 10: '[1'"
     ]
    }
   ],
   "source": [
    "b = [int(i) for i in a.split(', ')]"
   ]
  },
  {
   "cell_type": "code",
   "execution_count": 19,
   "metadata": {},
   "outputs": [
    {
     "data": {
      "text/plain": [
       "{1: 0, 2: 1, 3: 2}"
      ]
     },
     "execution_count": 19,
     "metadata": {},
     "output_type": "execute_result"
    }
   ],
   "source": [
    "{key: i for i, key in enumerate(b)}"
   ]
  },
  {
   "cell_type": "code",
   "execution_count": null,
   "metadata": {},
   "outputs": [],
   "source": []
  },
  {
   "cell_type": "code",
   "execution_count": null,
   "metadata": {},
   "outputs": [],
   "source": []
  }
 ],
 "metadata": {
  "kernelspec": {
   "display_name": ".venv",
   "language": "python",
   "name": "python3"
  },
  "language_info": {
   "codemirror_mode": {
    "name": "ipython",
    "version": 3
   },
   "file_extension": ".py",
   "mimetype": "text/x-python",
   "name": "python",
   "nbconvert_exporter": "python",
   "pygments_lexer": "ipython3",
   "version": "3.10.11"
  }
 },
 "nbformat": 4,
 "nbformat_minor": 2
}
